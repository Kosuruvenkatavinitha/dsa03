{
  "cells": [
    {
      "cell_type": "markdown",
      "metadata": {
        "id": "view-in-github",
        "colab_type": "text"
      },
      "source": [
        "<a href=\"https://colab.research.google.com/github/Kosuruvenkatavinitha/dsa03/blob/main/random%20sentence.ipynb\" target=\"_parent\"><img src=\"https://colab.research.google.com/assets/colab-badge.svg\" alt=\"Open In Colab\"/></a>"
      ]
    },
    {
      "cell_type": "code",
      "execution_count": 5,
      "metadata": {
        "id": "8HB7OZIIue8F",
        "colab": {
          "base_uri": "https://localhost:8080/"
        },
        "outputId": "762f047a-5f76-4329-efa6-7f29b9680056"
      },
      "outputs": [
        {
          "output_type": "stream",
          "name": "stdout",
          "text": [
            "She runs dog.\n",
            "He jumps quick dog slowly.\n",
            "He runs lazy cat silently.\n",
            "She eats book.\n",
            "John sleeps quick book.\n"
          ]
        }
      ],
      "source": [
        "import random\n",
        "\n",
        "# Define sentence patterns\n",
        "sentence_patterns = [\n",
        "    \"The {noun} {verb} {adjective}.\",\n",
        "    \"{Noun} {verb} {adjective} {noun}.\",\n",
        "    \"I {verb} {adjective} {noun}.\",\n",
        "    \"She {verb} {noun}.\",\n",
        "    \"He {verb} {adjective} {noun} {adverb}.\",\n",
        "]\n",
        "\n",
        "# Define vocabulary\n",
        "nouns = [\"cat\", \"dog\", \"ball\", \"house\", \"book\"]\n",
        "verbs = [\"runs\", \"jumps\", \"sleeps\", \"reads\", \"eats\"]\n",
        "adjectives = [\"quick\", \"lazy\", \"smart\", \"tall\", \"small\"]\n",
        "adverbs = [\"slowly\", \"quickly\", \"loudly\", \"silently\"]\n",
        "Noun = \"John\"\n",
        "\n",
        "# Function to construct a random sentence\n",
        "def construct_sentence():\n",
        "    pattern = random.choice(sentence_patterns)\n",
        "    sentence = pattern.format(\n",
        "        noun=random.choice(nouns),\n",
        "        verb=random.choice(verbs),\n",
        "        adjective=random.choice(adjectives),\n",
        "        adverb=random.choice(adverbs),\n",
        "        Noun=Noun,\n",
        "    )\n",
        "    return sentence\n",
        "\n",
        "# Generate and print random sentences\n",
        "for _ in range(5):\n",
        "    sentence = construct_sentence()\n",
        "    print(sentence)"
      ]
    },
    {
      "cell_type": "code",
      "execution_count": null,
      "metadata": {
        "id": "N5ASvtwH18Wp"
      },
      "outputs": [],
      "source": []
    }
  ],
  "metadata": {
    "colab": {
      "provenance": [],
      "authorship_tag": "ABX9TyMsW8n+0485eouIVO892aDP",
      "include_colab_link": true
    },
    "kernelspec": {
      "display_name": "Python 3",
      "name": "python3"
    },
    "language_info": {
      "name": "python"
    }
  },
  "nbformat": 4,
  "nbformat_minor": 0
}