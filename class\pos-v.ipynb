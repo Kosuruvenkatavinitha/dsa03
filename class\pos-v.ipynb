{
  "nbformat": 4,
  "nbformat_minor": 0,
  "metadata": {
    "colab": {
      "provenance": [],
      "authorship_tag": "ABX9TyOJTqI717ZFk1VGpTbMeSsP",
      "include_colab_link": true
    },
    "kernelspec": {
      "name": "python3",
      "display_name": "Python 3"
    },
    "language_info": {
      "name": "python"
    }
  },
  "cells": [
    {
      "cell_type": "markdown",
      "metadata": {
        "id": "view-in-github",
        "colab_type": "text"
      },
      "source": [
        "<a href=\"https://colab.research.google.com/github/Kosuruvenkatavinitha/dsa03/blob/main/class%5Cpos-v.ipynb\" target=\"_parent\"><img src=\"https://colab.research.google.com/assets/colab-badge.svg\" alt=\"Open In Colab\"/></a>"
      ]
    },
    {
      "cell_type": "code",
      "execution_count": 4,
      "metadata": {
        "colab": {
          "base_uri": "https://localhost:8080/"
        },
        "id": "8HB7OZIIue8F",
        "outputId": "fa6e1d58-3380-4b39-c165-159b58347003"
      },
      "outputs": [
        {
          "output_type": "stream",
          "name": "stdout",
          "text": [
            "[('Sukanya', 'NNP'), (',', ','), ('Rajib', 'NNP'), ('Naba', 'NNP'), ('good', 'JJ'), ('friends', 'NNS'), ('.', '.')]\n",
            "[('Sukanya', 'NNP'), ('getting', 'VBG'), ('married', 'VBN'), ('next', 'JJ'), ('year', 'NN'), ('.', '.')]\n",
            "[('Marriage', 'NN'), ('big', 'JJ'), ('step', 'NN'), ('one', 'CD'), ('’', 'NN'), ('life.It', 'NN'), ('exciting', 'VBG'), ('frightening', 'NN'), ('.', '.')]\n",
            "[('But', 'CC'), ('friendship', 'NN'), ('sacred', 'VBD'), ('bond', 'NN'), ('people.It', 'NN'), ('special', 'JJ'), ('kind', 'NN'), ('love', 'VB'), ('us', 'PRP'), ('.', '.')]\n",
            "[('Many', 'JJ'), ('must', 'MD'), ('tried', 'VB'), ('searching', 'VBG'), ('friend', 'NN'), ('never', 'RB'), ('found', 'VBD'), ('right', 'JJ'), ('one', 'CD'), ('.', '.')]\n"
          ]
        },
        {
          "output_type": "stream",
          "name": "stderr",
          "text": [
            "[nltk_data] Downloading package stopwords to /root/nltk_data...\n",
            "[nltk_data]   Package stopwords is already up-to-date!\n"
          ]
        }
      ],
      "source": [
        "import nltk\n",
        "nltk.download('stopwords')\n",
        "from nltk.corpus import stopwords\n",
        "from nltk.tokenize import word_tokenize, sent_tokenize\n",
        "stop_words = set(stopwords.words('english'))\n",
        "\n",
        "txt = \"Sukanya, Rajib and Naba are my good friends. \" \\\n",
        "\t\"Sukanya is getting married next year. \" \\\n",
        "\t\"Marriage is a big step in one’s life.\" \\\n",
        "\t\"It is both exciting and frightening. \" \\\n",
        "\t\"But friendship is a sacred bond between people.\" \\\n",
        "\t\"It is a special kind of love between us. \" \\\n",
        "\t\"Many of you must have tried searching for a friend \"\\\n",
        "\t\"but never found the right one.\"\n",
        "\n",
        "# sent_tokenize is one of instances of\n",
        "# PunktSentenceTokenizer from the nltk.tokenize.punkt module\n",
        "\n",
        "tokenized = sent_tokenize(txt)\n",
        "for i in tokenized:\n",
        "\n",
        "\t# Word tokenizers is used to find the words\n",
        "\t# and punctuation in a string\n",
        "\twordsList = nltk.word_tokenize(i)\n",
        "\n",
        "\t# removing stop words from wordList\n",
        "\twordsList = [w for w in wordsList if not w in stop_words]\n",
        "\n",
        "\t# Using a Tagger. Which is part-of-speech\n",
        "\t# tagger or POS-tagger.\n",
        "\ttagged = nltk.pos_tag(wordsList)\n",
        "\n",
        "\tprint(tagged)\n"
      ]
    },
    {
      "cell_type": "code",
      "source": [],
      "metadata": {
        "id": "N5ASvtwH18Wp"
      },
      "execution_count": 2,
      "outputs": []
    }
  ]
}