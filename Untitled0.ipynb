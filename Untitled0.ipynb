{
  "cells": [
    {
      "cell_type": "markdown",
      "metadata": {
        "id": "view-in-github",
        "colab_type": "text"
      },
      "source": [
        "<a href=\"https://colab.research.google.com/github/Kosuruvenkatavinitha/dsa03/blob/main/Untitled0.ipynb\" target=\"_parent\"><img src=\"https://colab.research.google.com/assets/colab-badge.svg\" alt=\"Open In Colab\"/></a>"
      ]
    },
    {
      "cell_type": "code",
      "execution_count": 3,
      "metadata": {
        "id": "N5ASvtwH18Wp",
        "colab": {
          "base_uri": "https://localhost:8080/"
        },
        "outputId": "d46fc8f4-65a6-4346-fe6f-622bcdcba304"
      },
      "outputs": [
        {
          "output_type": "stream",
          "name": "stderr",
          "text": [
            "[nltk_data] Downloading package punkt to /root/nltk_data...\n",
            "[nltk_data]   Unzipping tokenizers/punkt.zip.\n"
          ]
        },
        {
          "output_type": "stream",
          "name": "stdout",
          "text": [
            "English Sentence: Hello, how are you?\n",
            "Translated Sentence: Hola , cómo estás tú ?\n"
          ]
        }
      ],
      "source": [
        "import nltk\n",
        "nltk.download('punkt')\n",
        "# Sample English sentence\n",
        "english_sentence = \"Hello, how are you?\"\n",
        "\n",
        "# Simple mapping dictionary for translation\n",
        "translation_dict = {\n",
        "    \"Hello\": \"Hola\",\n",
        "    \"how\": \"cómo\",\n",
        "    \"are\": \"estás\",\n",
        "    \"you\": \"tú\"\n",
        "}\n",
        "\n",
        "# Tokenize the English sentence\n",
        "tokens = nltk.word_tokenize(english_sentence)\n",
        "\n",
        "# Perform translation using the mapping dictionary\n",
        "translated_sentence = \" \".join(translation_dict.get(word, word) for word in tokens)\n",
        "\n",
        "# Print the translated sentence\n",
        "print(f\"English Sentence: {english_sentence}\")\n",
        "print(f\"Translated Sentence: {translated_sentence}\")\n"
      ]
    }
  ],
  "metadata": {
    "colab": {
      "provenance": [],
      "authorship_tag": "ABX9TyM2PM56fyRwwdsRW7xlIuPP",
      "include_colab_link": true
    },
    "kernelspec": {
      "display_name": "Python 3",
      "name": "python3"
    },
    "language_info": {
      "name": "python"
    }
  },
  "nbformat": 4,
  "nbformat_minor": 0
}