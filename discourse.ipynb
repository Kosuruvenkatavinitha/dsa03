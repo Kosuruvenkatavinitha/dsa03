{
  "cells": [
    {
      "cell_type": "markdown",
      "metadata": {
        "id": "view-in-github",
        "colab_type": "text"
      },
      "source": [
        "<a href=\"https://colab.research.google.com/github/Kosuruvenkatavinitha/dsa03/blob/main/discourse.ipynb\" target=\"_parent\"><img src=\"https://colab.research.google.com/assets/colab-badge.svg\" alt=\"Open In Colab\"/></a>"
      ]
    },
    {
      "cell_type": "code",
      "execution_count": 1,
      "metadata": {
        "id": "N5ASvtwH18Wp",
        "colab": {
          "base_uri": "https://localhost:8080/"
        },
        "outputId": "d7d2c31d-5dae-418a-daa9-7e76bfc43026"
      },
      "outputs": [
        {
          "output_type": "stream",
          "name": "stdout",
          "text": [
            "Sentence: Although it was raining, John went for a run.\n",
            "   - Discourse Marker: Although\n",
            "\n",
            "Sentence: However, he got soaked.\n",
            "\n"
          ]
        }
      ],
      "source": [
        "import spacy\n",
        "\n",
        "nlp = spacy.load(\"en_core_web_sm\")\n",
        "\n",
        "text = \"Although it was raining, John went for a run. However, he got soaked.\"\n",
        "\n",
        "doc = nlp(text)\n",
        "\n",
        "for sent in doc.sents:\n",
        "    print(f\"Sentence: {sent.text}\")\n",
        "    for token in sent:\n",
        "        if token.dep_ == \"mark\":\n",
        "            print(f\"   - Discourse Marker: {token.text}\")\n",
        "            for child in token.children:\n",
        "                if child.dep_ == \"advcl\":\n",
        "                    print(f\"      - Adverbial Clause: {child.text}\")\n",
        "                elif child.dep_ == \"cc\":\n",
        "                    print(f\"      - Coordinating Conjunction: {child.text}\")\n",
        "    print()\n"
      ]
    }
  ],
  "metadata": {
    "colab": {
      "provenance": [],
      "authorship_tag": "ABX9TyMKDo6XdU1QYFb56rNciKDK",
      "include_colab_link": true
    },
    "kernelspec": {
      "display_name": "Python 3",
      "name": "python3"
    },
    "language_info": {
      "name": "python"
    }
  },
  "nbformat": 4,
  "nbformat_minor": 0
}