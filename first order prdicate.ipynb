{
  "cells": [
    {
      "cell_type": "markdown",
      "metadata": {
        "id": "view-in-github",
        "colab_type": "text"
      },
      "source": [
        "<a href=\"https://colab.research.google.com/github/Kosuruvenkatavinitha/dsa03/blob/main/first%20order%20prdicate.ipynb\" target=\"_parent\"><img src=\"https://colab.research.google.com/assets/colab-badge.svg\" alt=\"Open In Colab\"/></a>"
      ]
    },
    {
      "cell_type": "code",
      "execution_count": 11,
      "metadata": {
        "id": "N5ASvtwH18Wp",
        "colab": {
          "base_uri": "https://localhost:8080/"
        },
        "outputId": "9b93ed61-c199-4c22-e2ac-e9027b40071c"
      },
      "outputs": [
        {
          "output_type": "stream",
          "name": "stdout",
          "text": [
            "FOL Statement: loves(John, Mary).\n"
          ]
        }
      ],
      "source": [
        "import nltk\n",
        "\n",
        "# Sample sentence\n",
        "sentence = \"John loves Mary.\"\n",
        "\n",
        "# Tokenize and POS tag\n",
        "tokens = nltk.word_tokenize(sentence)\n",
        "pos_tags = nltk.pos_tag(tokens)\n",
        "\n",
        "# Parse to FOL\n",
        "fol_statement = \"loves(John, Mary).\"\n",
        "\n",
        "# Perform FOL inference or analysis\n",
        "# (In a real application, you would use a dedicated FOL engine)\n",
        "print(\"FOL Statement:\", fol_statement)\n",
        "\n",
        "# You would then use a dedicated FOL engine for reasoning or analysis.\n"
      ]
    }
  ],
  "metadata": {
    "colab": {
      "provenance": [],
      "authorship_tag": "ABX9TyNfxSuDkl6R2mZ/600/Jy4E",
      "include_colab_link": true
    },
    "kernelspec": {
      "display_name": "Python 3",
      "name": "python3"
    },
    "language_info": {
      "name": "python"
    }
  },
  "nbformat": 4,
  "nbformat_minor": 0
}