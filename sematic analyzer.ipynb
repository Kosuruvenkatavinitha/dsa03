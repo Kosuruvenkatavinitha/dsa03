{
  "cells": [
    {
      "cell_type": "markdown",
      "metadata": {
        "id": "view-in-github",
        "colab_type": "text"
      },
      "source": [
        "<a href=\"https://colab.research.google.com/github/Kosuruvenkatavinitha/dsa03/blob/main/sematic%20analyzer.ipynb\" target=\"_parent\"><img src=\"https://colab.research.google.com/assets/colab-badge.svg\" alt=\"Open In Colab\"/></a>"
      ]
    },
    {
      "cell_type": "code",
      "execution_count": 6,
      "metadata": {
        "id": "8HB7OZIIue8F",
        "colab": {
          "base_uri": "https://localhost:8080/"
        },
        "outputId": "99038911-2821-4a83-984a-804d3ebaf90d"
      },
      "outputs": [
        {
          "output_type": "stream",
          "name": "stdout",
          "text": [
            "Sentence: I love this product! It's amazing.\n",
            "Sentiment: Positive (Compound Score: 0.85)\n",
            "\n",
            "Sentence: The weather is terrible today.\n",
            "Sentiment: Negative (Compound Score: -0.48)\n",
            "\n",
            "Sentence: The movie was okay, but not great.\n",
            "Sentiment: Negative (Compound Score: -0.61)\n",
            "\n",
            "Sentence: I feel neutral about this.\n",
            "Sentiment: Neutral (Compound Score: 0.00)\n",
            "\n"
          ]
        },
        {
          "output_type": "stream",
          "name": "stderr",
          "text": [
            "[nltk_data] Downloading package vader_lexicon to /root/nltk_data...\n"
          ]
        }
      ],
      "source": [
        "import nltk\n",
        "from nltk.sentiment.vader import SentimentIntensityAnalyzer\n",
        "nltk.download('vader_lexicon')\n",
        "sia = SentimentIntensityAnalyzer()\n",
        "sentences = [\n",
        "    \"I love this product! It's amazing.\",\n",
        "    \"The weather is terrible today.\",\n",
        "    \"The movie was okay, but not great.\",\n",
        "    \"I feel neutral about this.\",\n",
        "]\n",
        "for sentence in sentences:\n",
        "    sentiment_scores = sia.polarity_scores(sentence)\n",
        "    compound_score = sentiment_scores['compound']\n",
        "    if compound_score >= 0.05:\n",
        "        sentiment = \"Positive\"\n",
        "    elif compound_score <= -0.05:\n",
        "        sentiment = \"Negative\"\n",
        "    else:\n",
        "        sentiment = \"Neutral\"\n",
        "    print(f\"Sentence: {sentence}\")\n",
        "    print(f\"Sentiment: {sentiment} (Compound Score: {compound_score:.2f})\\n\")"
      ]
    },
    {
      "cell_type": "code",
      "execution_count": null,
      "metadata": {
        "id": "N5ASvtwH18Wp"
      },
      "outputs": [],
      "source": []
    }
  ],
  "metadata": {
    "colab": {
      "provenance": [],
      "authorship_tag": "ABX9TyM7msBveawDNzVmLhAALEqf",
      "include_colab_link": true
    },
    "kernelspec": {
      "display_name": "Python 3",
      "name": "python3"
    },
    "language_info": {
      "name": "python"
    }
  },
  "nbformat": 4,
  "nbformat_minor": 0
}