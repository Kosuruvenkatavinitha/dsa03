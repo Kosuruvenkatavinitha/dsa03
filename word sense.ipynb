{
  "cells": [
    {
      "cell_type": "markdown",
      "metadata": {
        "id": "view-in-github",
        "colab_type": "text"
      },
      "source": [
        "<a href=\"https://colab.research.google.com/github/Kosuruvenkatavinitha/dsa03/blob/main/word%20sense.ipynb\" target=\"_parent\"><img src=\"https://colab.research.google.com/assets/colab-badge.svg\" alt=\"Open In Colab\"/></a>"
      ]
    },
    {
      "cell_type": "code",
      "execution_count": 3,
      "metadata": {
        "id": "N5ASvtwH18Wp",
        "colab": {
          "base_uri": "https://localhost:8080/"
        },
        "outputId": "d8c3f62c-1d7f-4702-d9c2-5922e8bd2c85"
      },
      "outputs": [
        {
          "output_type": "stream",
          "name": "stderr",
          "text": [
            "[nltk_data] Downloading package punkt to /root/nltk_data...\n",
            "[nltk_data]   Package punkt is already up-to-date!\n",
            "[nltk_data] Downloading package wordnet to /root/nltk_data...\n"
          ]
        },
        {
          "output_type": "stream",
          "name": "stdout",
          "text": [
            "Word: bat\n",
            "Selected sense: cricket_bat.n.01\n",
            "Definition: the club used in playing cricket\n"
          ]
        }
      ],
      "source": [
        "import nltk\n",
        "nltk.download('punkt')\n",
        "nltk.download('wordnet')\n",
        "from nltk.corpus import wordnet\n",
        "from nltk.wsd import lesk\n",
        "\n",
        "# Sample sentence with an ambiguous word\n",
        "sentence = \"I saw a bat flying in the sky.\"\n",
        "\n",
        "# Tokenize the sentence\n",
        "tokens = nltk.word_tokenize(sentence)\n",
        "\n",
        "# Perform word sense disambiguation using the Lesk algorithm\n",
        "# For illustration, let's disambiguate the word \"bat\"\n",
        "ambiguous_word = \"bat\"\n",
        "synset = lesk(tokens, ambiguous_word)\n",
        "\n",
        "# Get the definition of the selected sense\n",
        "if synset:\n",
        "    print(f\"Word: {ambiguous_word}\")\n",
        "    print(f\"Selected sense: {synset.name()}\")\n",
        "    print(f\"Definition: {synset.definition()}\")\n",
        "else:\n",
        "    print(\"Word sense disambiguation failed.\")\n"
      ]
    }
  ],
  "metadata": {
    "colab": {
      "provenance": [],
      "authorship_tag": "ABX9TyNpNZyv4CPsP8RmwxNChLh6",
      "include_colab_link": true
    },
    "kernelspec": {
      "display_name": "Python 3",
      "name": "python3"
    },
    "language_info": {
      "name": "python"
    }
  },
  "nbformat": 4,
  "nbformat_minor": 0
}