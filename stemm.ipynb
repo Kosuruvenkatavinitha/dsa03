{
  "cells": [
    {
      "cell_type": "markdown",
      "metadata": {
        "id": "view-in-github",
        "colab_type": "text"
      },
      "source": [
        "<a href=\"https://colab.research.google.com/github/Kosuruvenkatavinitha/dsa03/blob/main/stemm.ipynb\" target=\"_parent\"><img src=\"https://colab.research.google.com/assets/colab-badge.svg\" alt=\"Open In Colab\"/></a>"
      ]
    },
    {
      "cell_type": "code",
      "execution_count": 4,
      "metadata": {
        "id": "8HB7OZIIue8F",
        "colab": {
          "base_uri": "https://localhost:8080/"
        },
        "outputId": "08fe5e2f-4ec6-4b95-97f7-512a4aaa54d3"
      },
      "outputs": [
        {
          "output_type": "stream",
          "name": "stdout",
          "text": [
            "original: I am running in the park\n",
            "stemmed: i am run in the park\n",
            "\n",
            "original: the running shoes are on sales\n",
            "stemmed: the run shoe are on sale\n",
            "\n",
            "original: she ran to catch the busses\n",
            "stemmed: she ran to catch the buss\n",
            "\n"
          ]
        },
        {
          "output_type": "stream",
          "name": "stderr",
          "text": [
            "[nltk_data] Downloading package punkt to /root/nltk_data...\n",
            "[nltk_data]   Package punkt is already up-to-date!\n"
          ]
        }
      ],
      "source": [
        "import nltk\n",
        "from nltk.stem import PorterStemmer\n",
        "nltk.download(\"punkt\")\n",
        "stemmer = PorterStemmer()\n",
        "sentences = [ \"I am running in the park\",\n",
        "             \"the running shoes are on sales\",\n",
        "              \"she ran to catch the busses\"]\n",
        "for sentence in sentences:\n",
        "  words = nltk.word_tokenize(sentence)\n",
        "  stemmed_words = [stemmer.stem(word) for word in words ]\n",
        "  stemmed_sentence = \" \".join(stemmed_words)\n",
        "  print(f\"original: {sentence}\")\n",
        "  print(f\"stemmed: {stemmed_sentence}\\n\")"
      ]
    },
    {
      "cell_type": "code",
      "execution_count": null,
      "metadata": {
        "id": "N5ASvtwH18Wp"
      },
      "outputs": [],
      "source": []
    }
  ],
  "metadata": {
    "colab": {
      "provenance": [],
      "authorship_tag": "ABX9TyMOUDCnB+BRf9A0P/+Ep+AI",
      "include_colab_link": true
    },
    "kernelspec": {
      "display_name": "Python 3",
      "name": "python3"
    },
    "language_info": {
      "name": "python"
    }
  },
  "nbformat": 4,
  "nbformat_minor": 0
}