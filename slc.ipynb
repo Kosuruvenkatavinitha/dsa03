{
  "nbformat": 4,
  "nbformat_minor": 0,
  "metadata": {
    "colab": {
      "provenance": [],
      "authorship_tag": "ABX9TyNIph6tSGienkGadt2z9h08",
      "include_colab_link": true
    },
    "kernelspec": {
      "name": "python3",
      "display_name": "Python 3"
    },
    "language_info": {
      "name": "python"
    }
  },
  "cells": [
    {
      "cell_type": "markdown",
      "metadata": {
        "id": "view-in-github",
        "colab_type": "text"
      },
      "source": [
        "<a href=\"https://colab.research.google.com/github/Kosuruvenkatavinitha/dsa03/blob/main/slc.ipynb\" target=\"_parent\"><img src=\"https://colab.research.google.com/assets/colab-badge.svg\" alt=\"Open In Colab\"/></a>"
      ]
    },
    {
      "cell_type": "code",
      "execution_count": 7,
      "metadata": {
        "colab": {
          "base_uri": "https://localhost:8080/"
        },
        "id": "8HB7OZIIue8F",
        "outputId": "9ef2c572-06b8-43ae-f387-135f93514580"
      },
      "outputs": [
        {
          "output_type": "stream",
          "name": "stdout",
          "text": [
            "['This is the first sentence.', 'This is the second sentence.']\n",
            "(VP is/VBZ (NP the/DT first/JJ sentence/NN))\n",
            "(VP is/VBZ (NP the/DT second/JJ sentence/NN))\n"
          ]
        },
        {
          "output_type": "stream",
          "name": "stderr",
          "text": [
            "[nltk_data] Downloading package averaged_perceptron_tagger to\n",
            "[nltk_data]     /root/nltk_data...\n",
            "[nltk_data]   Package averaged_perceptron_tagger is already up-to-\n",
            "[nltk_data]       date!\n",
            "[nltk_data] Downloading package punkt to /root/nltk_data...\n",
            "[nltk_data]   Package punkt is already up-to-date!\n"
          ]
        }
      ],
      "source": [
        "import nltk\n",
        "nltk.download('averaged_perceptron_tagger')\n",
        "nltk.download('punkt')\n",
        "from nltk.tokenize import sent_tokenize, word_tokenize\n",
        "from nltk import pos_tag\n",
        "from nltk import RegexpParser\n",
        "\n",
        "input_text = \"This is the first sentence. This is the second sentence.\"\n",
        "sentences = sent_tokenize(input_text)\n",
        "\n",
        "print(sentences)\n",
        "\n",
        "# Define your grammar for NP and VP\n",
        "grammar = r\"\"\"\n",
        "    NP: {<DT>?<JJ>*<NN>}\n",
        "    VP: {<VB.*><NP|PP|CLAUSE>*}\n",
        "\"\"\"\n",
        "\n",
        "parser = RegexpParser(grammar)\n",
        "\n",
        "for sentence in sentences:\n",
        "    words = word_tokenize(sentence)\n",
        "    pos_tags = pos_tag(words)\n",
        "    tree = parser.parse(pos_tags)\n",
        "    for subtree in tree.subtrees():\n",
        "        if subtree.label() == 'VP':\n",
        "            print(subtree)\n"
      ]
    },
    {
      "cell_type": "code",
      "source": [],
      "metadata": {
        "id": "N5ASvtwH18Wp"
      },
      "execution_count": 2,
      "outputs": []
    }
  ]
}